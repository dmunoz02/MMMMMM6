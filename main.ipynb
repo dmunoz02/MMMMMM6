{
  "nbformat": 4,
  "nbformat_minor": 0,
  "metadata": {
    "colab": {
      "provenance": []
    },
    "kernelspec": {
      "name": "python3",
      "display_name": "Python 3"
    },
    "language_info": {
      "name": "python"
    }
  },
  "cells": [
    {
      "cell_type": "code",
      "execution_count": null,
      "metadata": {
        "colab": {
          "base_uri": "https://localhost:8080/",
          "height": 811
        },
        "id": "HZuTaJmSpqef",
        "outputId": "136af36a-e701-47a4-a0cf-3088e8cf94c4"
      },
      "outputs": [
        {
          "output_type": "stream",
          "name": "stdout",
          "text": [
            "[<span class=\"main-name-in-row\">Francesco Bagnaia</span>, <span class=\"main-name-in-row\">Fabio Quartararo</span>, <span class=\"main-name-in-row\">Aleix Espargaró</span>, <span class=\"main-name-in-row\">Enea Bastianini</span>, <span class=\"main-name-in-row\">Jack Miller</span>, <span class=\"main-name-in-row\">Brad Binder</span>, <span class=\"main-name-in-row\">Johann Zarco</span>, <span class=\"main-name-in-row\">Alex Rins</span>, <span class=\"main-name-in-row\">Miguel Oliveira</span>, <span class=\"main-name-in-row\">Jorge Martin</span>, <span class=\"main-name-in-row\">Maverick Viñales</span>, <span class=\"main-name-in-row\">Marc Márquez</span>, <span class=\"main-name-in-row\">Luca Marini</span>, <span class=\"main-name-in-row\">Marco Bezzecchi</span>, <span class=\"main-name-in-row\">Joan Mir Mayrata</span>, <span class=\"main-name-in-row\">Pol Espargaró</span>, <span class=\"main-name-in-row\">Álex Márquez</span>, <span class=\"main-name-in-row\">Takaaki Nakagami</span>, <span class=\"main-name-in-row\">Franco Morbidelli</span>, <span class=\"main-name-in-row\">Fabio Di Giannantonio</span>, <span class=\"main-name-in-row\">Andrea Dovizioso</span>, <span class=\"main-name-in-row\">Darryn Binder</span>, <span class=\"main-name-in-row\">Remy Gardner</span>, <span class=\"main-name-in-row\">Cal Crutchlow</span>, <span class=\"main-name-in-row\">Raúl Fernández</span>, <span class=\"main-name-in-row\">Stefan Bradl</span>, <span class=\"main-name-in-row\">Michele Pirro</span>, <span class=\"main-name-in-row\">Lorenzo Savadori</span>, <span class=\"main-name-in-row\">Tetsuta Nagashima</span>, <span class=\"main-name-in-row\">Danilo Petrucci</span>, <span class=\"main-name-in-row\">Kazuki Watanabe</span>, <span class=\"main-name-in-row\">Takuya Tsuda</span>, <span class=\"main-name-in-row\">Ducati</span>, <span class=\"main-name-in-row\">Aprilia</span>, <span class=\"main-name-in-row\">Yamaha</span>, <span class=\"main-name-in-row\">Ktm</span>, <span class=\"main-name-in-row\">Suzuki</span>, <span class=\"main-name-in-row\">Honda</span>]\n",
            "['Francesco Bagnaia', 'Fabio Quartararo', 'Aleix Espargaró', 'Enea Bastianini', 'Jack Miller', 'Brad Binder', 'Johann Zarco', 'Alex Rins', 'Miguel Oliveira', 'Jorge Martin', 'Maverick Viñales', 'Marc Márquez', 'Luca Marini', 'Marco Bezzecchi', 'Joan Mir Mayrata', 'Pol Espargaró', 'Álex Márquez', 'Takaaki Nakagami', 'Franco Morbidelli', 'Fabio Di Giannantonio'] 20\n",
            "[<td class=\"destacado\">258</td>, <td class=\"destacado\">235</td>, <td class=\"destacado\">212</td>, <td class=\"destacado\">211</td>, <td class=\"destacado\">189</td>, <td class=\"destacado\">168</td>, <td class=\"destacado\">166</td>, <td class=\"destacado\">148</td>, <td class=\"destacado\">138</td>, <td class=\"destacado\">136</td>, <td class=\"destacado\">122</td>, <td class=\"destacado\">113</td>, <td class=\"destacado\">111</td>, <td class=\"destacado\">106</td>, <td class=\"destacado\">77</td>, <td class=\"destacado\">56</td>, <td class=\"destacado\">50</td>, <td class=\"destacado\">46</td>, <td class=\"destacado\">36</td>, <td class=\"destacado\">23</td>, <td class=\"destacado\">15</td>, <td class=\"destacado\">12</td>, <td class=\"destacado\">10</td>, <td class=\"destacado\">10</td>, <td class=\"destacado\">10</td>, <td class=\"destacado\">2</td>, <td class=\"destacado\">0</td>, <td class=\"destacado\">0</td>, <td class=\"destacado\">0</td>, <td class=\"destacado\">0</td>, <td class=\"destacado\">0</td>, <td class=\"destacado\">0</td>, <td class=\"destacado\">432</td>, <td class=\"destacado\">248</td>, <td class=\"destacado\">243</td>, <td class=\"destacado\">220</td>, <td class=\"destacado\">174</td>, <td class=\"destacado\">153</td>]\n",
            "['258', '235', '212', '211', '189', '168', '166', '148', '138', '136', '122', '113', '111', '106', '77', '56', '50', '46', '36', '23'] 20\n",
            "                  PILOTOS PUNTOS\n",
            "1       Francesco Bagnaia    258\n",
            "2        Fabio Quartararo    235\n",
            "3         Aleix Espargaró    212\n",
            "4         Enea Bastianini    211\n",
            "5             Jack Miller    189\n",
            "6             Brad Binder    168\n",
            "7            Johann Zarco    166\n",
            "8               Alex Rins    148\n",
            "9         Miguel Oliveira    138\n",
            "10           Jorge Martin    136\n",
            "11       Maverick Viñales    122\n",
            "12           Marc Márquez    113\n",
            "13            Luca Marini    111\n",
            "14        Marco Bezzecchi    106\n",
            "15       Joan Mir Mayrata     77\n",
            "16          Pol Espargaró     56\n",
            "17           Álex Márquez     50\n",
            "18       Takaaki Nakagami     46\n",
            "19      Franco Morbidelli     36\n",
            "20  Fabio Di Giannantonio     23\n"
          ]
        },
        {
          "output_type": "error",
          "ename": "FileNotFoundError",
          "evalue": "ignored",
          "traceback": [
            "\u001b[0;31m---------------------------------------------------------------------------\u001b[0m",
            "\u001b[0;31mFileNotFoundError\u001b[0m                         Traceback (most recent call last)",
            "\u001b[0;32m<ipython-input-10-8154450da4eb>\u001b[0m in \u001b[0;36m<module>\u001b[0;34m\u001b[0m\n\u001b[1;32m     60\u001b[0m \u001b[0mdf\u001b[0m\u001b[0;34m.\u001b[0m\u001b[0mto_csv\u001b[0m\u001b[0;34m(\u001b[0m\u001b[0;34m'CLASIFICACIÓN DE PILOTOS.csv'\u001b[0m\u001b[0;34m,\u001b[0m \u001b[0mindex\u001b[0m\u001b[0;34m=\u001b[0m\u001b[0;32mFalse\u001b[0m\u001b[0;34m)\u001b[0m\u001b[0;34m\u001b[0m\u001b[0;34m\u001b[0m\u001b[0m\n\u001b[1;32m     61\u001b[0m \u001b[0;32mfrom\u001b[0m \u001b[0mgoogle\u001b[0m\u001b[0;34m.\u001b[0m\u001b[0mcolab\u001b[0m \u001b[0;32mimport\u001b[0m \u001b[0mfiles\u001b[0m\u001b[0;34m\u001b[0m\u001b[0;34m\u001b[0m\u001b[0m\n\u001b[0;32m---> 62\u001b[0;31m \u001b[0mfiles\u001b[0m\u001b[0;34m.\u001b[0m\u001b[0mdownload\u001b[0m \u001b[0;34m(\u001b[0m\u001b[0;34m'Escritorio\\CLASIFICACIÓN DE PILOTOS.csv'\u001b[0m\u001b[0;34m)\u001b[0m\u001b[0;34m\u001b[0m\u001b[0;34m\u001b[0m\u001b[0m\n\u001b[0m\u001b[1;32m     63\u001b[0m \u001b[0;34m\u001b[0m\u001b[0m\n\u001b[1;32m     64\u001b[0m \u001b[0;31m#SE DESCARGÓ EL ARCHIVO CON LOS DATOS EXTRAÍDOS\u001b[0m\u001b[0;34m\u001b[0m\u001b[0;34m\u001b[0m\u001b[0;34m\u001b[0m\u001b[0m\n",
            "\u001b[0;32m/usr/local/lib/python3.7/dist-packages/google/colab/files.py\u001b[0m in \u001b[0;36mdownload\u001b[0;34m(filename)\u001b[0m\n\u001b[1;32m    207\u001b[0m   \u001b[0;32mif\u001b[0m \u001b[0;32mnot\u001b[0m \u001b[0m_os\u001b[0m\u001b[0;34m.\u001b[0m\u001b[0mpath\u001b[0m\u001b[0;34m.\u001b[0m\u001b[0mexists\u001b[0m\u001b[0;34m(\u001b[0m\u001b[0mfilename\u001b[0m\u001b[0;34m)\u001b[0m\u001b[0;34m:\u001b[0m\u001b[0;34m\u001b[0m\u001b[0;34m\u001b[0m\u001b[0m\n\u001b[1;32m    208\u001b[0m     \u001b[0mmsg\u001b[0m \u001b[0;34m=\u001b[0m \u001b[0;34m'Cannot find file: {}'\u001b[0m\u001b[0;34m.\u001b[0m\u001b[0mformat\u001b[0m\u001b[0;34m(\u001b[0m\u001b[0mfilename\u001b[0m\u001b[0;34m)\u001b[0m\u001b[0;34m\u001b[0m\u001b[0;34m\u001b[0m\u001b[0m\n\u001b[0;32m--> 209\u001b[0;31m     \u001b[0;32mraise\u001b[0m \u001b[0mFileNotFoundError\u001b[0m\u001b[0;34m(\u001b[0m\u001b[0mmsg\u001b[0m\u001b[0;34m)\u001b[0m  \u001b[0;31m# pylint: disable=undefined-variable\u001b[0m\u001b[0;34m\u001b[0m\u001b[0;34m\u001b[0m\u001b[0m\n\u001b[0m\u001b[1;32m    210\u001b[0m \u001b[0;34m\u001b[0m\u001b[0m\n\u001b[1;32m    211\u001b[0m   \u001b[0mcomm_manager\u001b[0m \u001b[0;34m=\u001b[0m \u001b[0m_IPython\u001b[0m\u001b[0;34m.\u001b[0m\u001b[0mget_ipython\u001b[0m\u001b[0;34m(\u001b[0m\u001b[0;34m)\u001b[0m\u001b[0;34m.\u001b[0m\u001b[0mkernel\u001b[0m\u001b[0;34m.\u001b[0m\u001b[0mcomm_manager\u001b[0m\u001b[0;34m\u001b[0m\u001b[0;34m\u001b[0m\u001b[0m\n",
            "\u001b[0;31mFileNotFoundError\u001b[0m: Cannot find file: Escritorio\\CLASIFICACIÓN DE PILOTOS.csv"
          ]
        }
      ],
      "source": [
        "#DESCARGO LAS LIBRERÍAS QUE VOY A USAR\n",
        "from cgitb import html\n",
        "from bs4 import BeautifulSoup\n",
        "import requests\n",
        "import pandas as pd\n",
        "import matplotlib.pyplot as plt \n",
        "\n",
        "#CARGO LA PÁGINA QUE VOY A USAR Y FORMO LA SOPA \n",
        "url = 'https://resultados.as.com/resultados/motor/motogp/clasificacion/?omnil=mpal'\n",
        "page = requests.get(url)\n",
        "soup = BeautifulSoup(page.content, 'html.parser')\n",
        "\n",
        "#ELIJO TRABAJAR CON LOS PILOTOS Y DESCARGO EL HTML\n",
        "pil = soup.find_all('span', class_= 'main-name-in-row')\n",
        "\n",
        "#HAGO PRINT PARA CONTROL DE PROCESO 1\n",
        "print(pil)\n",
        "\n",
        "#SELECCIONO SÓLO LOS NOMBRES DE LOS 20 PRIMEROS PILOTOS EN UNA LISTA\n",
        "pilotos = list()\n",
        "\n",
        "count = 0\n",
        "for i in pil:\n",
        "    if count < 20:\n",
        "        pilotos.append(i.text)\n",
        "    else:\n",
        "        break\n",
        "    count += 1\n",
        "\n",
        "#HAGO PRINT PARA CONTROL DE PROCESO 2\n",
        "print(pilotos, len(pilotos))\n",
        "\n",
        "#ELIJO TRABAJAR CON LOS PUNTOS Y DESCARGO EL HTML\n",
        "punt = soup.find_all('td', class_= 'destacado')\n",
        "\n",
        "#HAGO PRINT PARA CONTROL DE PROCESO 3\n",
        "print(punt)\n",
        "\n",
        "#SELECCIONO LOS PUNTOS DE LOS 20 PRIMEROS PILOTOS EN UNA LISTA\n",
        "puntos = list()\n",
        "\n",
        "count = 0\n",
        "for i in punt:\n",
        "    if count < 20:\n",
        "        puntos.append(i.text)\n",
        "    else:\n",
        "        break\n",
        "    count += 1\n",
        "\n",
        "#HAGO PRINT PARA CONTROL DE PROCESO 4\n",
        "print(puntos, len(puntos))\n",
        "\n",
        "#ELABORO UN DATAFRAME CON PANDAS\n",
        "df = pd.DataFrame({'PILOTOS': pilotos, 'PUNTOS': puntos}, index=list (range(1,21)))\n",
        "\n",
        "#HAGO PRINT PARA CONTROL DE PROCESO 5\n",
        "print (df)\n",
        "\n",
        "#GUARDO LOS DATOS EN UN FICHERO DE TXT\n",
        "df.to_csv('CLASIFICACIÓN DE PILOTOS.csv', index=False)\n",
        "from google.colab import files \n",
        "files.download ('Escritorio\\ISPC TP2\\CLASIFICACIÓN DE PILOTOS.csv')\n",
        "\n",
        "#SE DESCARGÓ EL ARCHIVO CON LOS DATOS EXTRAÍDOS\n",
        "#SE PODRÁ ABRIR CON BLOCK DE NOTAS O PASAR A EXCEL O SIMILAR\n",
        "\n",
        "\n",
        "\n",
        "\n",
        "\n",
        "\n",
        "\n",
        "\n"
      ]
    },
    {
      "cell_type": "code",
      "source": [],
      "metadata": {
        "id": "48897pD35SZN"
      },
      "execution_count": null,
      "outputs": []
    }
  ]
}