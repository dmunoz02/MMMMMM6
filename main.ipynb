{
  "cells": [
    {
      "cell_type": "code",
      "execution_count": 1,
      "metadata": {
        "colab": {
          "base_uri": "https://localhost:8080/",
          "height": 811
        },
        "id": "HZuTaJmSpqef",
        "outputId": "136af36a-e701-47a4-a0cf-3088e8cf94c4"
      },
      "outputs": [
        {
          "ename": "ModuleNotFoundError",
          "evalue": "No module named 'matplotlib'",
          "output_type": "error",
          "traceback": [
            "\u001b[1;31m---------------------------------------------------------------------------\u001b[0m",
            "\u001b[1;31mModuleNotFoundError\u001b[0m                       Traceback (most recent call last)",
            "Cell \u001b[1;32mIn [1], line 6\u001b[0m\n\u001b[0;32m      4\u001b[0m \u001b[39mimport\u001b[39;00m \u001b[39mrequests\u001b[39;00m\n\u001b[0;32m      5\u001b[0m \u001b[39mimport\u001b[39;00m \u001b[39mpandas\u001b[39;00m \u001b[39mas\u001b[39;00m \u001b[39mpd\u001b[39;00m\n\u001b[1;32m----> 6\u001b[0m \u001b[39mimport\u001b[39;00m \u001b[39mmatplotlib\u001b[39;00m\u001b[39m.\u001b[39;00m\u001b[39mpyplot\u001b[39;00m \u001b[39mas\u001b[39;00m \u001b[39mplt\u001b[39;00m \n\u001b[0;32m      8\u001b[0m \u001b[39m#CARGO LA PÁGINA QUE VOY A USAR Y FORMO LA SOPA \u001b[39;00m\n\u001b[0;32m      9\u001b[0m url \u001b[39m=\u001b[39m \u001b[39m'\u001b[39m\u001b[39mhttps://resultados.as.com/resultados/motor/motogp/clasificacion/?omnil=mpal\u001b[39m\u001b[39m'\u001b[39m\n",
            "\u001b[1;31mModuleNotFoundError\u001b[0m: No module named 'matplotlib'"
          ]
        }
      ],
      "source": [
        "#DESCARGO LAS LIBRERÍAS QUE VOY A USAR\n",
        "from cgitb import html\n",
        "from bs4 import BeautifulSoup\n",
        "import requests\n",
        "import pandas as pd\n",
        "import matplotlib.pyplot as plt \n",
        "\n",
        "#CARGO LA PÁGINA QUE VOY A USAR Y FORMO LA SOPA \n",
        "url = 'https://resultados.as.com/resultados/motor/motogp/clasificacion/?omnil=mpal'\n",
        "page = requests.get(url)\n",
        "soup = BeautifulSoup(page.content, 'html.parser')\n",
        "\n",
        "#ELIJO TRABAJAR CON LOS PILOTOS Y DESCARGO EL HTML\n",
        "pil = soup.find_all('span', class_= 'main-name-in-row')\n",
        "\n",
        "#HAGO PRINT PARA CONTROL DE PROCESO 1\n",
        "print(pil)\n",
        "\n",
        "#SELECCIONO SÓLO LOS NOMBRES DE LOS 20 PRIMEROS PILOTOS EN UNA LISTA\n",
        "pilotos = list()\n",
        "\n",
        "count = 0\n",
        "for i in pil:\n",
        "    if count < 20:\n",
        "        pilotos.append(i.text)\n",
        "    else:\n",
        "        break\n",
        "    count += 1\n",
        "\n",
        "#HAGO PRINT PARA CONTROL DE PROCESO 2\n",
        "print(pilotos, len(pilotos))\n",
        "\n",
        "#ELIJO TRABAJAR CON LOS PUNTOS Y DESCARGO EL HTML\n",
        "punt = soup.find_all('td', class_= 'destacado')\n",
        "\n",
        "#HAGO PRINT PARA CONTROL DE PROCESO 3\n",
        "print(punt)\n",
        "\n",
        "#SELECCIONO LOS PUNTOS DE LOS 20 PRIMEROS PILOTOS EN UNA LISTA\n",
        "puntos = list()\n",
        "\n",
        "count = 0\n",
        "for i in punt:\n",
        "    if count < 20:\n",
        "        puntos.append(i.text)\n",
        "    else:\n",
        "        break\n",
        "    count += 1\n",
        "\n",
        "#HAGO PRINT PARA CONTROL DE PROCESO 4\n",
        "print(puntos, len(puntos))\n",
        "\n",
        "#ELABORO UN DATAFRAME CON PANDAS\n",
        "df = pd.DataFrame({'PILOTOS': pilotos, 'PUNTOS': puntos}, index=list (range(1,21)))\n",
        "\n",
        "#HAGO PRINT PARA CONTROL DE PROCESO 5\n",
        "print (df)\n",
        "\n",
        "#GUARDO LOS DATOS EN UN FICHERO DE TXT\n",
        "df.to_csv('CLASIFICACIÓN DE PILOTOS.csv', index=False)\n",
        "from google.colab import files \n",
        "files.download ('Escritorio\\ISPC TP2\\CLASIFICACIÓN DE PILOTOS.csv')\n",
        "\n",
        "#SE DESCARGÓ EL ARCHIVO CON LOS DATOS EXTRAÍDOS\n",
        "#SE PODRÁ ABRIR CON BLOCK DE NOTAS O PASAR A EXCEL O SIMILAR\n",
        "\n",
        "\n",
        "\n",
        "\n",
        "\n",
        "\n",
        "\n",
        "\n"
      ]
    },
    {
      "cell_type": "code",
      "execution_count": null,
      "metadata": {},
      "outputs": [],
      "source": []
    },
    {
      "cell_type": "code",
      "execution_count": null,
      "metadata": {},
      "outputs": [],
      "source": []
    },
    {
      "cell_type": "code",
      "execution_count": null,
      "metadata": {},
      "outputs": [],
      "source": []
    },
    {
      "cell_type": "markdown",
      "metadata": {},
      "source": []
    },
    {
      "cell_type": "markdown",
      "metadata": {},
      "source": []
    },
    {
      "cell_type": "code",
      "execution_count": null,
      "metadata": {
        "id": "48897pD35SZN"
      },
      "outputs": [],
      "source": []
    }
  ],
  "metadata": {
    "colab": {
      "provenance": []
    },
    "kernelspec": {
      "display_name": "Python 3.10.4 64-bit",
      "language": "python",
      "name": "python3"
    },
    "language_info": {
      "codemirror_mode": {
        "name": "ipython",
        "version": 3
      },
      "file_extension": ".py",
      "mimetype": "text/x-python",
      "name": "python",
      "nbconvert_exporter": "python",
      "pygments_lexer": "ipython3",
      "version": "3.10.4"
    },
    "vscode": {
      "interpreter": {
        "hash": "8c3d4d9970fc5c09c50d9318a9c7fbf4d0159e4b28833276f5678ee22bded273"
      }
    }
  },
  "nbformat": 4,
  "nbformat_minor": 0
}
